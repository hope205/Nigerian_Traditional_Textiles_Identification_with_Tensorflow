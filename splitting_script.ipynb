{
  "cells": [
    {
      "cell_type": "code",
      "execution_count": null,
      "id": "dn-6c02VmqiN",
      "metadata": {
        "id": "dn-6c02VmqiN"
      },
      "outputs": [],
      "source": [
        "import os\n",
        "# import zipfile\n",
        "import random\n",
        "import shutil\n",
        "from shutil import copyfile\n",
        "\n"
      ]
    },
    {
      "cell_type": "code",
      "execution_count": null,
      "id": "da90cfeb",
      "metadata": {
        "colab": {
          "base_uri": "https://localhost:8080/"
        },
        "id": "da90cfeb",
        "outputId": "abb227ae-24b2-40b4-c8de-4bd99f52382b"
      },
      "outputs": [
        {
          "output_type": "stream",
          "name": "stdout",
          "text": [
            "Mounted at /content/drive\n"
          ]
        }
      ],
      "source": [
        "from google.colab import drive\n",
        "drive.mount('/content/drive')"
      ]
    },
    {
      "cell_type": "code",
      "execution_count": null,
      "id": "DM851ZmN28J3",
      "metadata": {
        "colab": {
          "base_uri": "https://localhost:8080/"
        },
        "id": "DM851ZmN28J3",
        "outputId": "179f3e79-3b41-4a4f-d132-0420d1b08f59"
      },
      "outputs": [
        {
          "output_type": "stream",
          "name": "stdout",
          "text": [
            "There are 50 images of ankara.\n",
            "There are 50 images of aso oke.\n",
            "There are 49 images of atiku.\n",
            "There are 49 images of lace.\n"
          ]
        }
      ],
      "source": [
        "\n",
        "\n",
        "source_path = '/content/drive/MyDrive/Nigerian_attaires/Images'\n",
        "\n",
        "\n",
        "\n",
        "source_path_ankara = os.path.join(source_path, 'ankara')\n",
        "source_path_aso_oke = os.path.join(source_path, 'aso oke')\n",
        "source_path_atiku = os.path.join(source_path, 'atiku')\n",
        "source_path_lace = os.path.join(source_path, 'lace')\n",
        "\n",
        "\n",
        "\n",
        "# os.listdir returns a list containing all files under the given path\n",
        "print(f\"There are {len(os.listdir(source_path_ankara))} images of ankara.\")\n",
        "print(f\"There are {len(os.listdir(source_path_aso_oke))} images of aso oke.\")\n",
        "print(f\"There are {len(os.listdir(source_path_atiku))} images of atiku.\")\n",
        "print(f\"There are {len(os.listdir(source_path_lace))} images of lace.\")"
      ]
    },
    {
      "cell_type": "code",
      "execution_count": null,
      "id": "F-QkLjxpmyK2",
      "metadata": {
        "cellView": "code",
        "id": "F-QkLjxpmyK2"
      },
      "outputs": [],
      "source": [
        "# Define root directory\n",
        "\n",
        "\n",
        "root_dir = \"/content/drive/MyDrive/Nigerian_attaires/data\" \n",
        "\n",
        "\n",
        "\n",
        "#Empty directory to prevent FileExistsError is the function is run several times\n",
        "#be very careful with this line. Ensure you dont point it to the wrong directory so that you dont lose your files\n",
        "if os.path.exists(root_dir):\n",
        "  shutil.rmtree(root_dir)\n",
        "\n",
        "# GRADED FUNCTION: create_train_val_dirs\n",
        "def create_train_val_dirs(root_path):\n",
        "\n",
        "  # Don't hardcode the paths. Use os.path.join to append the new directories to the root_path parameter\n",
        "\n",
        "  os.mkdir(root_path)\n",
        "\n",
        "  path1 = os.path.join(root_path,'training')\n",
        "  path2 = os.path.join(root_path,'validation')\n",
        "    \n",
        "  path_tr_ct = os.path.join(path1,'ankara')\n",
        "  path_tr_dg = os.path.join(path1,'aso oke')\n",
        "  path_tr_at = os.path.join(path1,'atiku')\n",
        "  path_tr_lc = os.path.join(path1,'lace')\n",
        "    \n",
        "  path_val_ct = os.path.join(path2,'ankara')\n",
        "  path_val_dg = os.path.join(path2,'aso oke')\n",
        "  path_val_at = os.path.join(path2,'atiku')\n",
        "  path_val_lc = os.path.join(path2,'lace')\n",
        "\n",
        "  os.mkdir(path1)\n",
        "  os.mkdir(path2)\n",
        "  os.mkdir(path_tr_ct)\n",
        "  os.mkdir(path_tr_dg)\n",
        "  os.mkdir(path_tr_at)\n",
        "  os.mkdir(path_tr_lc)\n",
        "  os.mkdir(path_val_ct)\n",
        "  os.mkdir(path_val_dg)\n",
        "  os.mkdir(path_val_at)\n",
        "  os.mkdir(path_val_lc)\n",
        "  ### END CODE HERE\n",
        "\n",
        "  \n",
        "try:\n",
        "  create_train_val_dirs(root_path=root_dir)\n",
        "except FileExistsError:\n",
        "  print(\"You should not be seeing this since the upper directory is removed beforehand\")"
      ]
    },
    {
      "cell_type": "code",
      "execution_count": null,
      "id": "5dhtL344OK00",
      "metadata": {
        "colab": {
          "base_uri": "https://localhost:8080/"
        },
        "id": "5dhtL344OK00",
        "outputId": "4c9b6070-ec09-41d9-88c1-a0619472d598"
      },
      "outputs": [
        {
          "output_type": "stream",
          "name": "stdout",
          "text": [
            "/content/drive/MyDrive/Nigerian_attaires/data/training\n",
            "/content/drive/MyDrive/Nigerian_attaires/data/validation\n",
            "/content/drive/MyDrive/Nigerian_attaires/data/training/ankara\n",
            "/content/drive/MyDrive/Nigerian_attaires/data/training/aso oke\n",
            "/content/drive/MyDrive/Nigerian_attaires/data/training/atiku\n",
            "/content/drive/MyDrive/Nigerian_attaires/data/training/lace\n",
            "/content/drive/MyDrive/Nigerian_attaires/data/validation/ankara\n",
            "/content/drive/MyDrive/Nigerian_attaires/data/validation/aso oke\n",
            "/content/drive/MyDrive/Nigerian_attaires/data/validation/atiku\n",
            "/content/drive/MyDrive/Nigerian_attaires/data/validation/lace\n"
          ]
        }
      ],
      "source": [
        "# Test your create_train_val_dirs function\n",
        "\n",
        "for rootdir, dirs, files in os.walk(root_dir):\n",
        "    for subdir in dirs:\n",
        "        print(os.path.join(rootdir, subdir))"
      ]
    },
    {
      "cell_type": "code",
      "execution_count": null,
      "id": "zvSODo0f9LaU",
      "metadata": {
        "cellView": "code",
        "id": "zvSODo0f9LaU"
      },
      "outputs": [],
      "source": [
        "def split_data(SOURCE_DIR, TRAINING_DIR, VALIDATION_DIR, SPLIT_SIZE):\n",
        "\n",
        "  all_files = []\n",
        "\n",
        "\n",
        "  for file_name in os.listdir(SOURCE_DIR):\n",
        "    file_path = os.path.join(SOURCE_DIR,file_name)\n",
        "#     file_path = SOURCE_DIR +  file_name\n",
        "\n",
        "    if os.path.getsize(file_path):\n",
        "        all_files.append(file_name)\n",
        "    else:\n",
        "        print('{} is zero length, so ignoring'.format(file_name))\n",
        "    \n",
        "  n_files = len(all_files)\n",
        "\n",
        "  print('length of file', n_files )\n",
        "  split_point = int(n_files * SPLIT_SIZE)\n",
        "  print('split point of file', split_point)\n",
        "  shuffled = random.sample(all_files, n_files)\n",
        "  \n",
        "  train_set = shuffled[:split_point]\n",
        "  test_set = shuffled[split_point:]\n",
        "\n",
        "  print('trainset lenght',len(train_set))\n",
        "  print('testset lenght',len(test_set))\n",
        "  \n",
        "  for file_name in train_set:  \n",
        "      copyfile(os.path.join(SOURCE_DIR,file_name), os.path.join(TRAINING_DIR,file_name))\n",
        "\n",
        "      \n",
        "  for file_name in test_set:\n",
        "      copyfile(os.path.join(SOURCE_DIR,file_name), os.path.join(VALIDATION_DIR,file_name))\n",
        "\n"
      ]
    },
    {
      "cell_type": "code",
      "execution_count": null,
      "id": "FlIdoUeX9S-9",
      "metadata": {
        "colab": {
          "base_uri": "https://localhost:8080/"
        },
        "id": "FlIdoUeX9S-9",
        "outputId": "20b035ca-fdf8-4b84-c2f0-b5a0647b1387"
      },
      "outputs": [
        {
          "output_type": "stream",
          "name": "stdout",
          "text": [
            "length of file 50\n",
            "split point of file 42\n",
            "trainset lenght 42\n",
            "testset lenght 8\n",
            "length of file 50\n",
            "split point of file 42\n",
            "trainset lenght 42\n",
            "testset lenght 8\n",
            "length of file 49\n",
            "split point of file 41\n",
            "trainset lenght 41\n",
            "testset lenght 8\n",
            "length of file 49\n",
            "split point of file 41\n",
            "trainset lenght 41\n",
            "testset lenght 8\n",
            "\n",
            "\n",
            "Original cat's directory has 42 images\n",
            "Original dog's directory has 41 images\n",
            "\n",
            "There are 42 images of cats for training\n",
            "There are 41 images of dogs for training\n",
            "There are 8 images of cats for validation\n",
            "There are 8 images of dogs for validation\n"
          ]
        }
      ],
      "source": [
        "# Test your split_data function\n",
        "\n",
        "# Define paths\n",
        "ANK_SOURCE_DIR = \"/content/drive/MyDrive/Nigerian_attaires/Images/ankara\"\n",
        "ASO_SOURCE_DIR = \"/content/drive/MyDrive/Nigerian_attaires/Images/aso oke\"\n",
        "ATK_SOURCE_DIR = \"/content/drive/MyDrive/Nigerian_attaires/Images/atiku\"\n",
        "LCE_SOURCE_DIR = \"/content/drive/MyDrive/Nigerian_attaires/Images/lace\"\n",
        "\n",
        "\n",
        "\n",
        "TRAINING_DIR =  r\"/content/drive/MyDrive/Nigerian_attaires/data/training\" \n",
        "VALIDATION_DIR = r\"/content/drive/MyDrive/Nigerian_attaires/data/validation\"\n",
        "\n",
        "\n",
        "\n",
        "\n",
        "TRAINING_ANK_DIR = os.path.join(TRAINING_DIR, \"ankara\")\n",
        "VALIDATION_ANK_DIR = os.path.join(VALIDATION_DIR, \"ankara\")\n",
        "\n",
        "\n",
        "TRAINING_ASO_DIR = os.path.join(TRAINING_DIR, \"aso oke\")\n",
        "VALIDATION_ASO_DIR = os.path.join(VALIDATION_DIR, \"aso oke\")\n",
        "\n",
        "TRAINING_ATK_DIR = os.path.join(TRAINING_DIR, \"atiku\")\n",
        "VALIDATION_ATK_DIR = os.path.join(VALIDATION_DIR, \"atiku\")\n",
        "\n",
        "TRAINING_LCE_DIR = os.path.join(TRAINING_DIR, \"lace\")\n",
        "VALIDATION_LCE_DIR = os.path.join(VALIDATION_DIR, \"lace\")\n",
        "\n",
        "\n",
        "\n",
        "# Define proportion of images used for training\n",
        "split_size = 0.85\n",
        "\n",
        "\n",
        "# Run the function\n",
        "# NOTE: Messages about zero length images should be printed out\n",
        "split_data(ANK_SOURCE_DIR, TRAINING_ANK_DIR, VALIDATION_ANK_DIR, split_size)\n",
        "split_data(ASO_SOURCE_DIR, TRAINING_ASO_DIR, VALIDATION_ASO_DIR, split_size)\n",
        "split_data(ATK_SOURCE_DIR, TRAINING_ATK_DIR, VALIDATION_ATK_DIR, split_size)\n",
        "split_data(LCE_SOURCE_DIR, TRAINING_LCE_DIR, VALIDATION_LCE_DIR, split_size)\n",
        "\n",
        "# Check that the number of images matches the expected output\n",
        "\n",
        "# Your function should perform copies rather than moving images so original directories should contain unchanged images\n",
        "print(f\"\\n\\nOriginal cat's directory has {len(os.listdir(TRAINING_ANK_DIR))} images\")\n",
        "print(f\"Original dog's directory has {len(os.listdir(TRAINING_ATK_DIR))} images\\n\")\n",
        "\n",
        "# Training and validation splits\n",
        "print(f\"There are {len(os.listdir(TRAINING_ANK_DIR))} images of cats for training\")\n",
        "print(f\"There are {len(os.listdir(TRAINING_ATK_DIR))} images of dogs for training\")\n",
        "print(f\"There are {len(os.listdir(VALIDATION_ANK_DIR))} images of cats for validation\")\n",
        "print(f\"There are {len(os.listdir(VALIDATION_ATK_DIR))} images of dogs for validation\")"
      ]
    }
  ],
  "metadata": {
    "colab": {
      "provenance": []
    },
    "gpuClass": "standard",
    "kernelspec": {
      "display_name": "Python 3 (ipykernel)",
      "language": "python",
      "name": "python3"
    },
    "language_info": {
      "codemirror_mode": {
        "name": "ipython",
        "version": 3
      },
      "file_extension": ".py",
      "mimetype": "text/x-python",
      "name": "python",
      "nbconvert_exporter": "python",
      "pygments_lexer": "ipython3",
      "version": "3.10.5"
    },
    "vscode": {
      "interpreter": {
        "hash": "a09c02962fb8aced7ae43b4daf33da758c7fd83e4daf489e1408e1120680a966"
      }
    }
  },
  "nbformat": 4,
  "nbformat_minor": 5
}